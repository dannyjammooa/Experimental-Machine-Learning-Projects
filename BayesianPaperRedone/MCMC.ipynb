{
 "cells": [
  {
   "cell_type": "code",
   "execution_count": 3,
   "metadata": {},
   "outputs": [],
   "source": [
    "import numpy as np\n",
    "import scipy as sp\n",
    "import pandas as pd\n",
    "import matplotlib.pyplot as plt\n",
    "import seaborn as sns\n",
    "from scipy.stats import norm, uniform"
   ]
  },
  {
   "cell_type": "code",
   "execution_count": 163,
   "metadata": {},
   "outputs": [
    {
     "name": "stdout",
     "output_type": "stream",
     "text": [
      "0.4566\n",
      "[30.         30.16687472 32.02723316 ... 38.74821164 38.74821164\n",
      " 38.74821164]\n"
     ]
    }
   ],
   "source": [
    "N = 10000\n",
    "met_step = 2\n",
    "met_accept = 0\n",
    "S = np.zeros(N)\n",
    "L = np.zeros(N)\n",
    "ms = np.zeros(N)\n",
    "mv = np.zeros(N)\n",
    "lik = np.zeros(N)\n",
    "mu = np.zeros(N)\n",
    "\n",
    "data = np.random.randn(47)\n",
    "\n",
    "S[0] = 30\n",
    "L[0] = 70\n",
    "mu[0] = 0.8\n",
    "lik[0] = 0.9\n",
    "mv[0] = 1\n",
    "\n",
    "for i in range(N-1):\n",
    "    \n",
    "    if np.random.rand() > 0.5:\n",
    "        S_c = S[i] + uniform(0,met_step).rvs()\n",
    "        L_c = S[i] + uniform(0,met_step).rvs()\n",
    "        mv_c = mv[i] + uniform(0,met_step).rvs()\n",
    "    else:\n",
    "        S_c = S[i] - uniform(0,met_step).rvs()\n",
    "        L_c = L[i] - uniform(0,met_step).rvs()\n",
    "        mv_c = mv[i] + uniform(0,met_step).rvs()\n",
    "       \n",
    "    mu_c = norm(mu[i],0.063).rvs()    \n",
    "    ms_i = norm(0.7, 0.05).pdf(mu[i])\n",
    "    ms_c = norm(0.7, 0.05).pdf(mu_c)\n",
    "    lik_i = norm(mu[i],1).pdf(data).prod()\n",
    "    lik_c = norm(mu_c,1).pdf(data).prod()\n",
    "    \n",
    "    met_r = lik_c*S_c*L_c*ms_c*mv_c/lik_i*S[i]*L[i]*ms_i*mv[i]\n",
    "   \n",
    "    if np.random.rand() < min(1,met_r):\n",
    "        \n",
    "        S[i+1] = S_c\n",
    "        L[i+1] = L_c\n",
    "        mu[i+1] = mu_c\n",
    "        mv[i+1] = mv_c\n",
    "        ms[i] = ms_c\n",
    "        lik[i] = lik_c\n",
    "        met_accept = met_accept +1\n",
    "    else:\n",
    "        S[i+1] = S[i]\n",
    "        L[i+1] = L[i]\n",
    "        mu[i+1] = mu[i]\n",
    "        mv[i+1] = mv[i]\n",
    "        ms[i] = ms_i\n",
    "        lik[i] = lik_i\n",
    "        \n",
    "        \n",
    "M = met_accept/N\n",
    "print(M)\n",
    "print(S)"
   ]
  },
  {
   "cell_type": "code",
   "execution_count": 168,
   "metadata": {},
   "outputs": [
    {
     "data": {
      "text/plain": [
       "[<matplotlib.lines.Line2D at 0x243b1c812b0>]"
      ]
     },
     "execution_count": 168,
     "metadata": {},
     "output_type": "execute_result"
    },
    {
     "data": {
      "image/png": "[encoded data removed]",
      "text/plain": [
       "<Figure size 432x288 with 1 Axes>"
      ]
     },
     "metadata": {
      "needs_background": "light"
     },
     "output_type": "display_data"
    }
   ],
   "source": [
    "plt.plot(L)"
   ]
  },
  {
   "cell_type": "code",
   "execution_count": 169,
   "metadata": {},
   "outputs": [
    {
     "data": {
      "text/plain": [
       "(array([[1.048e+03, 3.000e+00, 1.000e+00, 6.000e+00, 2.000e+00, 6.000e+00,\n",
       "         5.000e+00, 1.000e+00, 1.000e+00, 4.000e+00],\n",
       "        [2.700e+02, 1.400e+01, 1.200e+01, 8.000e+00, 7.000e+00, 1.000e+00,\n",
       "         1.000e+01, 4.000e+00, 1.200e+01, 2.000e+01],\n",
       "        [3.410e+02, 2.700e+01, 1.800e+01, 1.100e+01, 1.300e+01, 9.000e+00,\n",
       "         1.100e+01, 2.200e+01, 1.800e+01, 4.700e+01],\n",
       "        [6.410e+02, 3.700e+01, 3.200e+01, 1.400e+01, 1.900e+01, 1.300e+01,\n",
       "         2.200e+01, 2.900e+01, 2.900e+01, 6.100e+01],\n",
       "        [9.550e+02, 7.900e+01, 4.900e+01, 2.800e+01, 3.300e+01, 1.900e+01,\n",
       "         2.500e+01, 4.400e+01, 4.100e+01, 7.100e+01],\n",
       "        [3.988e+03, 4.600e+01, 3.700e+01, 3.100e+01, 3.700e+01, 2.600e+01,\n",
       "         1.900e+01, 1.800e+01, 2.500e+01, 5.600e+01],\n",
       "        [4.350e+02, 4.100e+01, 2.600e+01, 3.000e+01, 1.500e+01, 2.000e+01,\n",
       "         2.000e+01, 2.800e+01, 1.900e+01, 6.500e+01],\n",
       "        [3.160e+02, 3.500e+01, 1.600e+01, 1.900e+01, 8.000e+00, 1.400e+01,\n",
       "         1.800e+01, 1.500e+01, 1.700e+01, 3.400e+01],\n",
       "        [2.280e+02, 1.100e+01, 4.000e+00, 1.100e+01, 4.000e+00, 7.000e+00,\n",
       "         9.000e+00, 7.000e+00, 6.000e+00, 1.800e+01],\n",
       "        [2.100e+01, 2.000e+00, 1.000e+00, 2.000e+00, 1.000e+00, 0.000e+00,\n",
       "         1.000e+00, 0.000e+00, 0.000e+00, 0.000e+00]]),\n",
       " array([5.41226809e-02, 7.04871041e+00, 1.40432981e+01, 2.10378859e+01,\n",
       "        2.80324736e+01, 3.50270613e+01, 4.20216491e+01, 4.90162368e+01,\n",
       "        5.60108245e+01, 6.30054123e+01, 7.00000000e+01]),\n",
       " array([0.        , 0.79788343, 1.59576686, 2.39365028, 3.19153371,\n",
       "        3.98941714, 4.78730057, 5.585184  , 6.38306743, 7.18095085,\n",
       "        7.97883428]),\n",
       " <matplotlib.collections.QuadMesh at 0x243b1cdc9e8>)"
      ]
     },
     "execution_count": 169,
     "metadata": {},
     "output_type": "execute_result"
    },
    {
     "data": {
      "image/png": "[encoded data removed]",
      "text/plain": [
       "<Figure size 432x288 with 1 Axes>"
      ]
     },
     "metadata": {
      "needs_background": "light"
     },
     "output_type": "display_data"
    }
   ],
   "source": [
    "plt.hist2d(L,ms)"
   ]
  },
  {
   "cell_type": "code",
   "execution_count": null,
   "metadata": {},
   "outputs": [],
   "source": []
  }
 ],
 "metadata": {
  "kernelspec": {
   "display_name": "Python 3",
   "language": "python",
   "name": "python3"
  },
  "language_info": {
   "codemirror_mode": {
    "name": "ipython",
    "version": 3
   },
   "file_extension": ".py",
   "mimetype": "text/x-python",
   "name": "python",
   "nbconvert_exporter": "python",
   "pygments_lexer": "ipython3",
   "version": "3.7.3"
  }
 },
 "nbformat": 4,
 "nbformat_minor": 2
}
